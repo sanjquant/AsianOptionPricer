{
  "nbformat": 4,
  "nbformat_minor": 0,
  "metadata": {
    "colab": {
      "provenance": []
    },
    "kernelspec": {
      "name": "python3",
      "display_name": "Python 3"
    },
    "language_info": {
      "name": "python"
    }
  },
  "cells": [
    {
      "cell_type": "code",
      "execution_count": 2,
      "metadata": {
        "colab": {
          "base_uri": "https://localhost:8080/"
        },
        "id": "3m0evrkGX_8C",
        "outputId": "b5b7809d-f76c-42d6-b77f-c04d7f2a982d"
      },
      "outputs": [
        {
          "output_type": "stream",
          "name": "stdout",
          "text": [
            "Case A: {'price': 2.8866785441902074, 'stderr': 0.0022445759645915706, 'ci95': [2.8822791752996078, 2.891077913080807], 'diagnostics': {'antithetic': True, 'geometric_cv': True, 'cv_rho': 1.9729877047358217}}\n",
            "Case B: {'price': 3.54883785299437, 'stderr': 0.006641031057608241, 'ci95': [3.535821432121458, 3.561854273867282], 'diagnostics': {'antithetic': True, 'geometric_cv': True, 'cv_rho': -0.6414567489550341}}\n"
          ]
        }
      ],
      "source": [
        "\n",
        "import math\n",
        "import numpy as np\n",
        "\n",
        "def _geom_analytic_EG(S0, r, q, sigma, ts, observed=None):\n",
        "    \"\"\"Analytic E[G] for geometric-average level under GBM.\n",
        "    observed: dict {t -> S_obs} of already-fixed points (year fractions).\n",
        "    \"\"\"\n",
        "    observed = observed or {}\n",
        "    N = len(ts)\n",
        "    # c = (1/N) * sum_{obs} ln S_obs\n",
        "    c = sum(np.log(observed[t]) for t in ts if t in observed) / N if observed else 0.0\n",
        "    # future times\n",
        "    tf = [t for t in ts if t not in observed]\n",
        "    if not tf:\n",
        "        return math.exp(c)\n",
        "    mu_sum = sum(math.log(S0) + (r - q - 0.5*sigma*sigma)*t for t in tf)\n",
        "    # Var(sum ln S_ti) = sigma^2 * sum_{i,j} min(ti,tj)\n",
        "    var_sum = 0.0\n",
        "    for i, ti in enumerate(tf):\n",
        "        for j, tj in enumerate(tf):\n",
        "            var_sum += min(ti, tj)\n",
        "    v = (sigma*sigma) * var_sum / (N*N)\n",
        "    mu = c + mu_sum / N\n",
        "    return math.exp(mu + 0.5*v)\n",
        "\n",
        "def asian_price_mc(S0, K, r, q, sigma, T, N=12, call_put=\"call\", strike_type=\"fixed\",\n",
        "                   n_paths=200_000, seed=12345, antithetic=True,\n",
        "                   observed_fixings=None, use_geometric_cv=True):\n",
        "    \"\"\"Simple arithmetic Asian pricer via Monte Carlo (GBM).\n",
        "    - Equally spaced **discrete** fixings from 0 to T (inclusive).\n",
        "    - Supports fixed-strike and floating-strike payoffs.\n",
        "    - Optional seasoned handling via observed_fixings: dict {index -> S_obs} OR {t -> S_obs} if float t in year fractions.\n",
        "    Returns: dict(price, stderr, ci95)\n",
        "    \"\"\"\n",
        "    rng = np.random.default_rng(seed)\n",
        "    call = call_put.lower() == \"call\"\n",
        "    fixed = strike_type.lower() == \"fixed\"\n",
        "    observed_fixings = observed_fixings or {}\n",
        "\n",
        "    # Build fixing times (year fractions) equally spaced over (0, T], N points\n",
        "    ts = np.linspace(T/N, T, N)\n",
        "\n",
        "    # Normalize observed_fixings to index->value for convenience\n",
        "    obs_idx = {}\n",
        "    if len(observed_fixings) > 0:\n",
        "        # support both index-based and time-based keys\n",
        "        for k, v in observed_fixings.items():\n",
        "            if isinstance(k, int):\n",
        "                obs_idx[k] = float(v)\n",
        "            else:\n",
        "                # time-based: map to nearest index\n",
        "                idx = int(round((float(k)/T) * N)) - 1\n",
        "                idx = max(0, min(N-1, idx))\n",
        "                obs_idx[idx] = float(v)\n",
        "\n",
        "    # Determine which indices are still stochastic\n",
        "    to_sim = [i for i in range(N) if i not in obs_idx]\n",
        "\n",
        "    # Precompute drifts/vols per fixing time\n",
        "    drift = (r - q - 0.5*sigma*sigma) * ts\n",
        "    vol = sigma * np.sqrt(ts)\n",
        "\n",
        "    # Generate normals only for to_sim columns\n",
        "    Z = rng.standard_normal(size=(n_paths, len(to_sim))) if to_sim else np.zeros((n_paths, 0))\n",
        "    # Build full Z matrix\n",
        "    Z_full = np.zeros((n_paths, N))\n",
        "    for k, i in enumerate(to_sim):\n",
        "        Z_full[:, i] = Z[:, k]\n",
        "\n",
        "    # Exact marginals for GBM at fixing times\n",
        "    S = S0 * np.exp(drift + vol * Z_full)\n",
        "    if antithetic:\n",
        "        S_anti = S0 * np.exp(drift + vol * (-Z_full))\n",
        "        S = np.vstack([S, S_anti])\n",
        "\n",
        "    # Inject observed fixings (seasoned)\n",
        "    if obs_idx:\n",
        "        for i, s in obs_idx.items():\n",
        "            S[:, i] = s\n",
        "\n",
        "    # Arithmetic average\n",
        "    A = S.mean(axis=1)\n",
        "    S_T = S[:, -1]\n",
        "\n",
        "    # Payoff\n",
        "    if fixed:\n",
        "        payoff = np.maximum(A - K, 0.0) if call else np.maximum(K - A, 0.0)\n",
        "    else:\n",
        "        payoff = np.maximum(S_T - A, 0.0) if call else np.maximum(A - S_T, 0.0)\n",
        "\n",
        "    # Discount\n",
        "    disc = math.exp(-r * T)\n",
        "    X = disc * payoff\n",
        "\n",
        "    # Optional geometric-average control variate\n",
        "    rho = None\n",
        "    if use_geometric_cv:\n",
        "        EG = _geom_analytic_EG(S0, r, q, sigma, ts, observed={ts[i]: s for i, s in obs_idx.items()})\n",
        "        with np.errstate(divide=\"ignore\"):\n",
        "            G = np.exp(np.log(np.clip(S, 1e-300, None)).mean(axis=1))\n",
        "        Y = G\n",
        "        yv = Y.var(ddof=1)\n",
        "        if yv > 0:\n",
        "            covXY = np.cov(X, Y, ddof=1)[0, 1]\n",
        "            b = covXY / yv\n",
        "            X = X - b * (Y - EG)\n",
        "            rho = covXY / (X.std(ddof=1) * Y.std(ddof=1) + 1e-16)\n",
        "\n",
        "    price = X.mean()\n",
        "    stderr = X.std(ddof=1) / math.sqrt(len(X))\n",
        "    ci95 = (price - 1.96*stderr, price + 1.96*stderr)\n",
        "\n",
        "    return {\n",
        "        \"price\": float(price),\n",
        "        \"stderr\": float(stderr),\n",
        "        \"ci95\": [float(ci95[0]), float(ci95[1])],\n",
        "        \"diagnostics\": {\"antithetic\": bool(antithetic), \"geometric_cv\": bool(use_geometric_cv), \"cv_rho\": None if rho is None else float(rho)}\n",
        "    }\n",
        "\n",
        "if __name__ == \"__main__\":\n",
        "    # Example 1: Unseasoned, fixed-strike call\n",
        "    resA = asian_price_mc(S0=100, K=100, r=0.03, q=0.01, sigma=0.22, T=1.0, N=12,\n",
        "                          call_put=\"call\", strike_type=\"fixed\", n_paths=200_000, seed=123, antithetic=True)\n",
        "    print(\"Case A:\", resA)\n",
        "\n",
        "    # Example 2: Seasoned, floating-strike put (6 of 8 fixings observed)\n",
        "    observed = {0:97.20, 1:96.10, 2:94.80, 3:95.40, 4:93.90, 5:92.70}  # first 6 fixings\n",
        "    resB = asian_price_mc(S0=95, K=None, r=0.0225, q=0.005, sigma=0.28, T=8/52, N=8,\n",
        "                          call_put=\"put\", strike_type=\"floating\", n_paths=200_000, seed=321,\n",
        "                          observed_fixings=observed, antithetic=True)\n",
        "    print(\"Case B:\", resB)\n"
      ]
    },
    {
      "cell_type": "code",
      "source": [
        "# from asian_simple import asian_price_mc\n",
        "\n",
        "res = asian_price_mc(\n",
        "    S0=100, K=100, r=0.03, q=0.01, sigma=0.22,\n",
        "    T=1.0, N=12, call_put=\"call\", strike_type=\"fixed\",\n",
        "    n_paths=200_000, seed=123, antithetic=True,\n",
        "    observed_fixings=None, use_geometric_cv=True\n",
        ")\n",
        "print(res[\"price\"], res[\"stderr\"], res[\"ci95\"])\n"
      ],
      "metadata": {
        "colab": {
          "base_uri": "https://localhost:8080/"
        },
        "id": "ZI9H7OdddkXE",
        "outputId": "866fb69d-bd98-47df-bf92-9ad10cdc4617"
      },
      "execution_count": 4,
      "outputs": [
        {
          "output_type": "stream",
          "name": "stdout",
          "text": [
            "2.8866785441902074 0.0022445759645915706 [2.8822791752996078, 2.891077913080807]\n"
          ]
        }
      ]
    }
  ]
}